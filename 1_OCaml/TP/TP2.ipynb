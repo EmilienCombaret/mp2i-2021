{
 "cells": [
  {
   "cell_type": "code",
   "execution_count": 3,
   "id": "142efea8-9ae3-4308-b74d-97d28f6ea1cc",
   "metadata": {},
   "outputs": [
    {
     "data": {
      "text/plain": [
       "val divise : int -> int -> bool = <fun>\n"
      ]
     },
     "execution_count": 3,
     "metadata": {},
     "output_type": "execute_result"
    }
   ],
   "source": [
    "let divise a b =\n",
    "a mod b=0"
   ]
  },
  {
   "cell_type": "code",
   "execution_count": 18,
   "id": "3425f502-ba23-4f04-a9df-a433f91e1f2f",
   "metadata": {},
   "outputs": [
    {
     "data": {
      "text/plain": [
       "val somme : int -> int = <fun>\n"
      ]
     },
     "execution_count": 18,
     "metadata": {},
     "output_type": "execute_result"
    }
   ],
   "source": [
    "let rec somme n =\n",
    "if n<1 then 0 else\n",
    "n*n + somme (n-1)"
   ]
  },
  {
   "cell_type": "code",
   "execution_count": 15,
   "id": "d3490bc9-4566-4cd3-a50f-45eac935ea61",
   "metadata": {},
   "outputs": [
    {
     "data": {
      "text/plain": [
       "val u : float -> float = <fun>\n"
      ]
     },
     "execution_count": 15,
     "metadata": {},
     "output_type": "execute_result"
    }
   ],
   "source": [
    "let rec u n =\n",
    "if n <> 0. then 3.*.(u (n-.1.))**0.5 +. 2. \n",
    "else 42."
   ]
  },
  {
   "cell_type": "code",
   "execution_count": 16,
   "id": "3836f02d-1565-478d-9326-28bf8d8ae489",
   "metadata": {},
   "outputs": [
    {
     "data": {
      "text/plain": [
       "- : float = 12.9031140348139637\n"
      ]
     },
     "execution_count": 16,
     "metadata": {},
     "output_type": "execute_result"
    }
   ],
   "source": [
    "u 5."
   ]
  },
  {
   "cell_type": "code",
   "execution_count": 1,
   "id": "3481ea9e-6073-40eb-96f2-52fd137872df",
   "metadata": {},
   "outputs": [
    {
     "data": {
      "text/plain": [
       "val v : float -> float -> float = <fun>\n"
      ]
     },
     "execution_count": 1,
     "metadata": {},
     "output_type": "execute_result"
    }
   ],
   "source": [
    "let rec v a n =\n",
    "if n <> 0.\n",
    "then (let h=v a (n-.1.) in 1./.2. *.(h +. (a/.h)))\n",
    "else a"
   ]
  },
  {
   "cell_type": "code",
   "execution_count": 1,
   "id": "572e4b9c-4e87-46fd-9073-15470689aa81",
   "metadata": {},
   "outputs": [
    {
     "data": {
      "text/plain": [
       "- : string = \"on conjecture que la limite de (Vn) est la racine de a\"\n"
      ]
     },
     "execution_count": 1,
     "metadata": {},
     "output_type": "execute_result"
    }
   ],
   "source": [
    "(\"on conjecture que la limite de (Vn) est la racine de a\")"
   ]
  },
  {
   "cell_type": "code",
   "execution_count": 4,
   "id": "44426c86-f019-4008-9a69-022e267b9195",
   "metadata": {},
   "outputs": [
    {
     "data": {
      "text/plain": [
       "val euclide : int -> int -> int = <fun>\n"
      ]
     },
     "execution_count": 4,
     "metadata": {},
     "output_type": "execute_result"
    }
   ],
   "source": [
    "let rec euclide a b =\n",
    "if a mod b<>0 then\n",
    "euclide b (a mod b) else b"
   ]
  },
  {
   "cell_type": "code",
   "execution_count": 6,
   "id": "cc397705-bd46-43d8-a101-633e3a86acf4",
   "metadata": {},
   "outputs": [
    {
     "data": {
      "text/plain": [
       "- : int = 7\n"
      ]
     },
     "execution_count": 6,
     "metadata": {},
     "output_type": "execute_result"
    }
   ],
   "source": [
    "euclide 49 7"
   ]
  },
  {
   "cell_type": "code",
   "execution_count": 1,
   "id": "336ffbff-9313-426a-a97f-5cce905d250a",
   "metadata": {},
   "outputs": [
    {
     "data": {
      "text/plain": [
       "val puissance : int -> int -> int = <fun>\n"
      ]
     },
     "execution_count": 1,
     "metadata": {},
     "output_type": "execute_result"
    }
   ],
   "source": [
    "let rec puissance a n =\n",
    "if n <> 0 then a*(puissance a (n-1)) else a"
   ]
  },
  {
   "cell_type": "code",
   "execution_count": 1,
   "id": "82664cfd-f67e-4838-ae51-b0d94aa2b983",
   "metadata": {},
   "outputs": [
    {
     "data": {
      "text/plain": [
       "val exp_rapide : int -> int -> int = <fun>\n"
      ]
     },
     "execution_count": 1,
     "metadata": {},
     "output_type": "execute_result"
    }
   ],
   "source": [
    "let rec exp_rapide a n =\n",
    "if n<>0 then \n",
    "(if n<>1 then\n",
    "(if (n mod 2)=0 then (let b=(exp_rapide a (n/2)) in b*b)\n",
    "else (let b=(exp_rapide a ((n-1)/2)) in b*b)) else a) else 1"
   ]
  },
  {
   "cell_type": "code",
   "execution_count": 6,
   "id": "ce60ff3a-8053-4c84-93eb-19ff16b77b29",
   "metadata": {},
   "outputs": [
    {
     "data": {
      "text/plain": [
       "val fact : int -> int -> int = <fun>\n"
      ]
     },
     "execution_count": 6,
     "metadata": {},
     "output_type": "execute_result"
    }
   ],
   "source": [
    "let rec fact acc n =\n",
    " if n = 0 then acc  \n",
    " else fact (n*acc) (n-1)"
   ]
  },
  {
   "cell_type": "code",
   "execution_count": 13,
   "id": "f8b778a7-02ff-475e-9acc-3e3db9ccc4cc",
   "metadata": {},
   "outputs": [
    {
     "data": {
      "text/plain": [
       "val fact1 : int -> int = <fun>\n"
      ]
     },
     "execution_count": 13,
     "metadata": {},
     "output_type": "execute_result"
    }
   ],
   "source": [
    "let fact1 n =\n",
    "fact 1 n"
   ]
  },
  {
   "cell_type": "code",
   "execution_count": 1,
   "id": "b47b73bb-88b5-4df9-bff1-873961a0d154",
   "metadata": {},
   "outputs": [
    {
     "data": {
      "text/plain": [
       "val temps_vol : int -> int -> int = <fun>\n"
      ]
     },
     "execution_count": 1,
     "metadata": {},
     "output_type": "execute_result"
    }
   ],
   "source": [
    "let rec temps_vol a n =\n",
    "if n<>0 \n",
    "    then let b=temps_vol a (n-1) in\n",
    "    if (b mod 2=0)\n",
    "        then b/2\n",
    "        else 3*b+1\n",
    "    else a "
   ]
  },
  {
   "cell_type": "code",
   "execution_count": 8,
   "id": "9f2aa1bc-098c-4ba3-befb-7b9489e9112b",
   "metadata": {},
   "outputs": [
    {
     "ename": "error",
     "evalue": "compile_error",
     "output_type": "error",
     "traceback": [
      "File \"[8]\", line 10, characters 0-0:\nError: Syntax error\n"
     ]
    }
   ],
   "source": [
    "let rec u n =\n",
    "if n<>0 \n",
    "    then let b= u (n-1) in let c=v (n-1) in (b - b*c)\n",
    "    else 2\n",
    "&&\n",
    "let rec v n =\n",
    "if n<>0 \n",
    "    then (let b= u (n-1) in let c=v (n-1) in (c + b*c))\n",
    "    else 3"
   ]
  },
  {
   "cell_type": "code",
   "execution_count": 1,
   "id": "d3b03d98-a1bd-4ba0-b2cc-21dada2ccd00",
   "metadata": {},
   "outputs": [
    {
     "ename": "error",
     "evalue": "compile_error",
     "output_type": "error",
     "traceback": [
      "File \"[1]\", line 1, characters 0-1:\n1 | v 3\n    ^\nError: Unbound value v\n"
     ]
    }
   ],
   "source": [
    "v 3"
   ]
  },
  {
   "cell_type": "code",
   "execution_count": null,
   "id": "9ddf36d6-75d8-43a7-b652-fa59fb6ac33e",
   "metadata": {},
   "outputs": [],
   "source": [
    "let rec taille l = match l with\n",
    "|[]-> 0\n",
    "|e::q -> 1+taille q \n",
    "\n",
    "let rec hanoi n tige1 tige2 =\n",
    "tige0=[]\n",
    "for i=1 to n do \n",
    "n->tige0 done;\n",
    "if (n mod 2=0) \n",
    "    then \n",
    "    (if (taille tige1)<>0 \n",
    "        then \n",
    "        while (taille tige1)<>0 do\n",
    "        (if ((taille tige1) mod 2)=0 \n",
    "            then let e::tige3=tige1 in e->tige2\n",
    "            else let e::tige3=tige1 in e->tige0 && let f::tige3=tige2 in f->tige0\n",
    "            "
   ]
  },
  {
   "cell_type": "code",
   "execution_count": null,
   "id": "d44df86d-e785-4260-949c-80f223a2b3b8",
   "metadata": {},
   "outputs": [],
   "source": []
  }
 ],
 "metadata": {
  "kernelspec": {
   "display_name": "OCaml default",
   "language": "OCaml",
   "name": "ocaml-jupyter"
  },
  "language_info": {
   "codemirror_mode": "text/x-ocaml",
   "file_extension": ".ml",
   "mimetype": "text/x-ocaml",
   "name": "OCaml",
   "nbconverter_exporter": null,
   "pygments_lexer": "OCaml",
   "version": "4.08.1"
  }
 },
 "nbformat": 4,
 "nbformat_minor": 5
}
