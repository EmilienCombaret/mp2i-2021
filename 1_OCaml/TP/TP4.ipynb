{
 "cells": [
  {
   "cell_type": "code",
   "execution_count": 1,
   "id": "446f2f4d-569a-4a48-b5a9-5dff790e4b3f",
   "metadata": {},
   "outputs": [
    {
     "data": {
      "text/plain": [
       "- : string = \"le type de List.mem est int-> list.int -> bool\"\n"
      ]
     },
     "execution_count": 1,
     "metadata": {},
     "output_type": "execute_result"
    }
   ],
   "source": [
    "(\"le type de List.mem est 'a -> 'a list -> bool = <fun>\")"
   ]
  },
  {
   "cell_type": "code",
   "execution_count": 6,
   "id": "29aa0ad3-90fc-4021-9056-0eeca2740022",
   "metadata": {},
   "outputs": [
    {
     "data": {
      "text/plain": [
       "val liste : 'a -> 'a list -> bool = <fun>\n"
      ]
     },
     "execution_count": 6,
     "metadata": {},
     "output_type": "execute_result"
    }
   ],
   "source": [
    "let liste e l  = \n",
    "List.mem e l"
   ]
  },
  {
   "cell_type": "code",
   "execution_count": 7,
   "id": "3f5d1cd0-4b98-4054-9d0e-f3426274c6c8",
   "metadata": {},
   "outputs": [
    {
     "data": {
      "text/plain": [
       "val mem : 'a -> 'a list -> bool = <fun>\n"
      ]
     },
     "execution_count": 7,
     "metadata": {},
     "output_type": "execute_result"
    }
   ],
   "source": [
    "let rec mem e l = match l with\n",
    "| [] -> false\n",
    "|r::q -> if r=e then true else mem e q"
   ]
  },
  {
   "cell_type": "code",
   "execution_count": 7,
   "id": "1c06099a-541a-440e-a0c1-0a29268e5267",
   "metadata": {},
   "outputs": [
    {
     "data": {
      "text/plain": [
       "val iter : ('a -> 'b) -> 'a list -> unit = <fun>\n"
      ]
     },
     "execution_count": 7,
     "metadata": {},
     "output_type": "execute_result"
    }
   ],
   "source": [
    "let rec iter f = function\n",
    "| [] -> ()\n",
    "| e::q ->  f e; iter f q"
   ]
  },
  {
   "cell_type": "code",
   "execution_count": 1,
   "id": "177af75f-5028-4c25-b671-a022c053bcac",
   "metadata": {},
   "outputs": [
    {
     "data": {
      "text/plain": [
       "- : string =\n",
       "\"List.filter (fun x -> x > 0) [1; -2; 3; 0] renvoie: - : int list [1;3]\"\n"
      ]
     },
     "execution_count": 1,
     "metadata": {},
     "output_type": "execute_result"
    }
   ],
   "source": [
    "(\"List.filter (fun x -> x > 0) [1; -2; 3; 0] renvoie: - : int list [1;3]\")"
   ]
  },
  {
   "cell_type": "code",
   "execution_count": 2,
   "id": "1ff663f3-5c47-4ead-835d-468e308ab871",
   "metadata": {},
   "outputs": [
    {
     "data": {
      "text/plain": [
       "val filter : ('a -> bool) -> 'a list -> bool list = <fun>\n"
      ]
     },
     "execution_count": 2,
     "metadata": {},
     "output_type": "execute_result"
    }
   ],
   "source": [
    "let rec filter f l= match l with\n",
    "| [] -> []\n",
    "| e::q-> if (f e) then (f e)::filter f q \n",
    "                    else filter f q\n"
   ]
  },
  {
   "cell_type": "code",
   "execution_count": 29,
   "id": "a745cda8-f8ef-47bd-9dfa-c0821fe5495b",
   "metadata": {},
   "outputs": [
    {
     "data": {
      "text/plain": [
       "val somme : int list -> int = <fun>\n"
      ]
     },
     "execution_count": 29,
     "metadata": {},
     "output_type": "execute_result"
    }
   ],
   "source": [
    "let rec somme l =match l with\n",
    "|[]->0\n",
    "|e::q-> e+somme q"
   ]
  },
  {
   "cell_type": "code",
   "execution_count": 9,
   "id": "d64b7858-1196-43b3-9026-0ac4f8c7c262",
   "metadata": {},
   "outputs": [
    {
     "data": {
      "text/plain": [
       "val range : int -> int list = <fun>\n"
      ]
     },
     "execution_count": 9,
     "metadata": {},
     "output_type": "execute_result"
    }
   ],
   "source": [
    "let rec range n = \n",
    "if n <> -1 then n::(range (n-1)) else []"
   ]
  },
  {
   "cell_type": "code",
   "execution_count": 9,
   "id": "2d7bfac9-854a-4d8d-a96a-dfdb992cb0e0",
   "metadata": {},
   "outputs": [
    {
     "data": {
      "text/plain": [
       "- : string =\n",
       "\"le type de List.map est ('a -> 'b) -> 'a list -> 'b list = <fun>\"\n"
      ]
     },
     "execution_count": 9,
     "metadata": {},
     "output_type": "execute_result"
    }
   ],
   "source": [
    "(\"le type de List.map est ('a -> 'b) -> 'a list -> 'b list = <fun>\")"
   ]
  },
  {
   "cell_type": "code",
   "execution_count": 8,
   "id": "278c748f-3c90-4314-96b9-ae4b1a7480a0",
   "metadata": {},
   "outputs": [
    {
     "data": {
      "text/plain": [
       "val map : ('a -> 'b) -> 'a list -> 'b list = <fun>\n"
      ]
     },
     "execution_count": 8,
     "metadata": {},
     "output_type": "execute_result"
    }
   ],
   "source": [
    "let rec map f l = match l with\n",
    "| [] -> []\n",
    "| e::q ->  (f e)::(map f q) "
   ]
  },
  {
   "cell_type": "code",
   "execution_count": 11,
   "id": "a491208f-3b73-4018-ac13-65c3db0978db",
   "metadata": {},
   "outputs": [
    {
     "data": {
      "text/plain": [
       "- : int = 25333\n"
      ]
     },
     "execution_count": 11,
     "metadata": {},
     "output_type": "execute_result"
    }
   ],
   "source": [
    "somme (map (fun x -> x * x*x*x) (range 10))"
   ]
  },
  {
   "cell_type": "code",
   "execution_count": 28,
   "id": "4c9cd68e-c887-4b6e-bd61-c257c79ea3e4",
   "metadata": {},
   "outputs": [
    {
     "data": {
      "text/plain": [
       "val positif : int list -> bool = <fun>\n"
      ]
     },
     "execution_count": 28,
     "metadata": {},
     "output_type": "execute_result"
    }
   ],
   "source": [
    "let positif l=\n",
    "    let f e= \n",
    "        e mod 2=0 in\n",
    "        List.for_all f l"
   ]
  },
  {
   "cell_type": "code",
   "execution_count": 38,
   "id": "cc41ba4f-95a7-4117-aac5-e769c1ee9e5c",
   "metadata": {},
   "outputs": [
    {
     "data": {
      "text/plain": [
       "val pair : int list -> bool = <fun>\n"
      ]
     },
     "execution_count": 38,
     "metadata": {},
     "output_type": "execute_result"
    }
   ],
   "source": [
    "let pair l=\n",
    "    let f e= \n",
    "        e mod 2=0 in\n",
    "        List.exists f l"
   ]
  },
  {
   "cell_type": "code",
   "execution_count": 32,
   "id": "80e80195-e4cd-48ff-a800-207dc73208a2",
   "metadata": {},
   "outputs": [
    {
     "data": {
      "text/plain": [
       "val add : 'a -> 'a list list -> 'a list list = <fun>\n"
      ]
     },
     "execution_count": 32,
     "metadata": {},
     "output_type": "execute_result"
    }
   ],
   "source": [
    "let rec add e l1 = match l1 with\n",
    "|[]->[]\n",
    "|d::q->(e::d):: add e q"
   ]
  },
  {
   "cell_type": "code",
   "execution_count": 33,
   "id": "bd3ee14d-d108-4c70-9d3c-2784dcfe1cbc",
   "metadata": {},
   "outputs": [
    {
     "data": {
      "text/plain": [
       "val parties : 'a list -> 'a list list = <fun>\n"
      ]
     },
     "execution_count": 33,
     "metadata": {},
     "output_type": "execute_result"
    }
   ],
   "source": [
    "let rec parties l = match l with \n",
    "|[]->[[]]\n",
    "|e::q->(parties q)@(add e (parties q))"
   ]
  },
  {
   "cell_type": "code",
   "execution_count": 36,
   "id": "40a821ab-60e2-4066-9183-1b9ef55996bd",
   "metadata": {},
   "outputs": [
    {
     "data": {
      "text/plain": [
       "- : int list list = [[]; [1]; [2]; [2; 1]; [1]; [1; 1]; [1; 2]; [1; 2; 1]]\n"
      ]
     },
     "execution_count": 36,
     "metadata": {},
     "output_type": "execute_result"
    }
   ],
   "source": [
    "parties [1; 2; 1]"
   ]
  },
  {
   "cell_type": "code",
   "execution_count": 34,
   "id": "211de55e-9c4c-40e2-92ca-9f39c4fbab05",
   "metadata": {},
   "outputs": [
    {
     "data": {
      "text/plain": [
       "val decomposition : int -> int list -> int = <fun>\n"
      ]
     },
     "execution_count": 34,
     "metadata": {},
     "output_type": "execute_result"
    }
   ],
   "source": [
    "let decomposition n l =\n",
    "        let rec egalite n q = match q with\n",
    "            |[]->if n=0 then 1 else 0\n",
    "            |e::k-> if somme e=n then 1+egalite n k\n",
    "                                else egalite n k in\n",
    "    egalite n (parties l) "
   ]
  },
  {
   "cell_type": "code",
   "execution_count": 35,
   "id": "cf8f17de-0190-48a5-8d00-09e68d9ede22",
   "metadata": {},
   "outputs": [
    {
     "data": {
      "text/plain": [
       "- : int = 2\n"
      ]
     },
     "execution_count": 35,
     "metadata": {},
     "output_type": "execute_result"
    }
   ],
   "source": [
    "decomposition 6 [1; 2; 3; 5]"
   ]
  },
  {
   "cell_type": "code",
   "execution_count": 37,
   "id": "556bb7ef-94bd-4e2f-93a0-15bc6a06cd40",
   "metadata": {},
   "outputs": [
    {
     "data": {
      "text/plain": [
       "val possibilite : int -> int list -> int list list = <fun>\n"
      ]
     },
     "execution_count": 37,
     "metadata": {},
     "output_type": "execute_result"
    }
   ],
   "source": [
    "let possibilite n l =\n",
    "        let rec egalite n q = match q with\n",
    "            |[]->if n=0 then [[]] else []\n",
    "            |e::k-> if somme e=n then e::egalite n k\n",
    "                                else egalite n k in\n",
    "    egalite n (parties l)"
   ]
  },
  {
   "cell_type": "code",
   "execution_count": 38,
   "id": "c9c57260-221f-4578-ab12-525c5c102a5d",
   "metadata": {},
   "outputs": [
    {
     "data": {
      "text/plain": [
       "- : int list list = [[1; 5]; [1; 2; 3]]\n"
      ]
     },
     "execution_count": 38,
     "metadata": {},
     "output_type": "execute_result"
    }
   ],
   "source": [
    "possibilite 6 [1; 2; 3; 5]"
   ]
  },
  {
   "cell_type": "code",
   "execution_count": null,
   "id": "f59249e4-4178-4656-a314-2770a4076e5d",
   "metadata": {},
   "outputs": [],
   "source": []
  }
 ],
 "metadata": {
  "kernelspec": {
   "display_name": "OCaml default",
   "language": "OCaml",
   "name": "ocaml-jupyter"
  },
  "language_info": {
   "codemirror_mode": "text/x-ocaml",
   "file_extension": ".ml",
   "mimetype": "text/x-ocaml",
   "name": "OCaml",
   "nbconverter_exporter": null,
   "pygments_lexer": "OCaml",
   "version": "4.08.1"
  }
 },
 "nbformat": 4,
 "nbformat_minor": 5
}
