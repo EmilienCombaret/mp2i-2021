{
 "cells": [
  {
   "cell_type": "code",
   "execution_count": 1,
   "id": "07f6152f-86d3-4f5d-ac78-cf1653a942e5",
   "metadata": {},
   "outputs": [
    {
     "data": {
      "text/plain": [
       "val aire_boule : float -> float = <fun>\n"
      ]
     },
     "execution_count": 1,
     "metadata": {},
     "output_type": "execute_result"
    }
   ],
   "source": [
    "let aire_boule r =\n",
    "(4. *. Float.pi *. r ** 3.) /. 3."
   ]
  },
  {
   "cell_type": "code",
   "execution_count": 1,
   "id": "25a98afd-e8c6-40aa-bd27-392aed4fbed6",
   "metadata": {},
   "outputs": [
    {
     "data": {
      "text/plain": [
       "val distance : float -> float -> float -> float -> float = <fun>\n"
      ]
     },
     "execution_count": 1,
     "metadata": {},
     "output_type": "execute_result"
    }
   ],
   "source": [
    "let distance xp1 yp1 xp2 yp2 =\n",
    "let p3 = ((xp1 -.xp2)**2. +. (yp1-.yp2)**2.) in\n",
    "p3**0.5"
   ]
  },
  {
   "cell_type": "code",
   "execution_count": 13,
   "id": "54b2dd03-fcd8-4168-abf2-809a737cff74",
   "metadata": {},
   "outputs": [
    {
     "data": {
      "text/plain": [
       "val polaire : float -> float -> float * float = <fun>\n"
      ]
     },
     "execution_count": 13,
     "metadata": {},
     "output_type": "execute_result"
    }
   ],
   "source": [
    "let polaire a b =\n",
    "let x=a*.cos(b) in\n",
    "let y=a*.sin(b) in\n",
    "x,y"
   ]
  },
  {
   "cell_type": "code",
   "execution_count": 16,
   "id": "e30ff639-6c2b-41c5-b998-92f092af2583",
   "metadata": {},
   "outputs": [
    {
     "data": {
      "text/plain": [
       "val milieu : float -> float -> float = <fun>\n"
      ]
     },
     "execution_count": 16,
     "metadata": {},
     "output_type": "execute_result"
    }
   ],
   "source": [
    "let milieu p1 p2 =\n",
    "let m=(p1+.p2) in\n",
    "m/.2."
   ]
  },
  {
   "cell_type": "code",
   "execution_count": 21,
   "id": "6083ab01-a138-44a0-a444-8b779726eb04",
   "metadata": {},
   "outputs": [
    {
     "data": {
      "text/plain": [
       "val abs : float -> float = <fun>\n"
      ]
     },
     "execution_count": 21,
     "metadata": {},
     "output_type": "execute_result"
    },
    {
     "data": {
      "text/plain": [
       "val parallelogramme : float -> float -> float -> float -> bool = <fun>\n"
      ]
     },
     "execution_count": 21,
     "metadata": {},
     "output_type": "execute_result"
    }
   ],
   "source": [
    "let abs x =\n",
    "if x<0. then -.x\n",
    "else x\n",
    "let parallelogramme p1 p2 p3 p4 =\n",
    "let d1 = abs p1-.p2 in\n",
    "let d2 = p3-.p4 in\n",
    "d1-.d2<0.0001"
   ]
  },
  {
   "cell_type": "code",
   "execution_count": null,
   "id": "25deeffa-3272-44df-a343-e4bc11134c77",
   "metadata": {},
   "outputs": [],
   "source": []
  }
 ],
 "metadata": {
  "kernelspec": {
   "display_name": "OCaml default",
   "language": "OCaml",
   "name": "ocaml-jupyter"
  },
  "language_info": {
   "codemirror_mode": "text/x-ocaml",
   "file_extension": ".ml",
   "mimetype": "text/x-ocaml",
   "name": "OCaml",
   "nbconverter_exporter": null,
   "pygments_lexer": "OCaml",
   "version": "4.08.1"
  }
 },
 "nbformat": 4,
 "nbformat_minor": 5
}
